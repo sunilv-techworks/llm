{
 "cells": [
  {
   "cell_type": "markdown",
   "id": "c691b0d6-a825-4bcc-aa3e-95b5be4d3dd2",
   "metadata": {},
   "source": [
    "## This notebook uses the OPENAI API to create a technical tutor. It explains code by breaking it down and returns the logic being used to implement along with suggestions for improving the code."
   ]
  },
  {
   "cell_type": "markdown",
   "id": "1e5a58ee-ff35-422d-bcde-621d10e0a4bf",
   "metadata": {},
   "source": [
    "## Import the libraries"
   ]
  },
  {
   "cell_type": "code",
   "execution_count": 14,
   "id": "4e2a9393-7767-488e-a8bf-27c12dca35bd",
   "metadata": {},
   "outputs": [],
   "source": [
    "# imports\n",
    "\n",
    "import os\n",
    "import requests\n",
    "from dotenv import load_dotenv\n",
    "from bs4 import BeautifulSoup\n",
    "from IPython.display import Markdown, display\n",
    "from openai import OpenAI\n",
    "\n",
    "# If you get an error running this cell, then please head over to the troubleshooting notebook!"
   ]
  },
  {
   "cell_type": "markdown",
   "id": "6900b2a8-6384-4316-8aaa-5e519fca4254",
   "metadata": {},
   "source": [
    "# Connecting to OpenAI\n",
    "\n",
    "Load in the environment variables in your `.env` file and connect to OpenAI."
   ]
  },
  {
   "cell_type": "code",
   "execution_count": 2,
   "id": "7b87cadb-d513-4303-baee-a37b6f938e4d",
   "metadata": {},
   "outputs": [],
   "source": [
    "# Load environment variables in a file called .env\n",
    "\n",
    "load_dotenv(override=True)\n",
    "api_key = os.getenv('OPENAI_API_KEY')\n"
   ]
  },
  {
   "cell_type": "code",
   "execution_count": 3,
   "id": "019974d9-f3ad-4a8a-b5f9-0a3719aea2d3",
   "metadata": {},
   "outputs": [],
   "source": [
    "openai = OpenAI()"
   ]
  },
  {
   "cell_type": "markdown",
   "id": "6a478a0c-2c53-48ff-869c-4d08199931e1",
   "metadata": {},
   "source": [
    "## Types of prompts\n",
    "\n",
    "\n",
    "Models expect to receive:\n",
    "\n",
    "**A system prompt** that tells them what task they are performing and what tone they should use\n",
    "\n",
    "**A user prompt** -- the conversation starter that they should reply to"
   ]
  },
  {
   "cell_type": "code",
   "execution_count": 4,
   "id": "abdb8417-c5dc-44bc-9bee-2e059d162699",
   "metadata": {},
   "outputs": [],
   "source": [
    "# Define our system prompt \n",
    "\n",
    "system_prompt = \"You are a helpful technical tutor that analyzes the code given to you.\\\n",
    "You provide an explanation of the given code and explain its components. \\\n",
    "Summarise the key aspects of the code along with the logic being implemented. \\\n",
    "If there are any issues with the code please highlight it. \\\n",
    "Suggest an alternate if there are better ways to achieve it. \\\n",
    "Respond in markdown.\""
   ]
  },
  {
   "cell_type": "code",
   "execution_count": 5,
   "id": "f0275b1b-7cfe-4f9d-abfa-7650d378da0c",
   "metadata": {},
   "outputs": [],
   "source": [
    "# A function that writes a User Prompt that asks for summaries of websites:\n",
    "\n",
    "def user_prompt_for(code):\n",
    "    user_prompt = f\"Please explain the following code: {code}\"\n",
    "    return user_prompt"
   ]
  },
  {
   "cell_type": "markdown",
   "id": "ea211b5f-28e1-4a86-8e52-c0b7677cadcc",
   "metadata": {},
   "source": [
    "## Messages\n",
    "\n",
    "The API from OpenAI expects to receive messages in a particular structure.\n",
    "Many of the other APIs share this structure:\n",
    "\n",
    "```\n",
    "[\n",
    "    {\"role\": \"system\", \"content\": \"system message goes here\"},\n",
    "    {\"role\": \"user\", \"content\": \"user message goes here\"}\n",
    "]\n"
   ]
  },
  {
   "cell_type": "markdown",
   "id": "d06e8d78-ce4c-4b05-aa8e-17050c82bb47",
   "metadata": {},
   "source": [
    "## Build system and user prompts"
   ]
  },
  {
   "cell_type": "code",
   "execution_count": 6,
   "id": "0134dfa4-8299-48b5-b444-f2a8c3403c88",
   "metadata": {},
   "outputs": [],
   "source": [
    "# See how this function creates exactly the format above\n",
    "\n",
    "def messages_for(code):\n",
    "    return [\n",
    "        {\"role\": \"system\", \"content\": system_prompt},\n",
    "        {\"role\": \"user\", \"content\": user_prompt_for(code)}\n",
    "    ]"
   ]
  },
  {
   "cell_type": "markdown",
   "id": "16f49d46-bf55-4c3e-928f-68fc0bf715b0",
   "metadata": {},
   "source": [
    "## Summarize the data by calling the open AI API"
   ]
  },
  {
   "cell_type": "code",
   "execution_count": 7,
   "id": "905b9919-aba7-45b5-ae65-81b3d1d78e34",
   "metadata": {},
   "outputs": [],
   "source": [
    "# And now: call the OpenAI API. You will get very familiar with this!\n",
    "\n",
    "def explain_code(code):\n",
    "\n",
    "    response = openai.chat.completions.create(\n",
    "        model = \"gpt-4o-mini\",\n",
    "        messages = messages_for(code)\n",
    "    )\n",
    "    return response.choices[0].message.content"
   ]
  },
  {
   "cell_type": "markdown",
   "id": "fc287997-1eee-4bf9-92a9-fdee533f762a",
   "metadata": {},
   "source": [
    "## Markdown library to summarize the data nicely"
   ]
  },
  {
   "cell_type": "code",
   "execution_count": 8,
   "id": "3d926d59-450e-4609-92ba-2d6f244f1342",
   "metadata": {},
   "outputs": [],
   "source": [
    "# A function to display this nicely in the Jupyter output, using markdown\n",
    "\n",
    "def display_summary(code):\n",
    "    summary = explain_code(code)\n",
    "    display(Markdown(summary))"
   ]
  },
  {
   "cell_type": "code",
   "execution_count": 13,
   "id": "3018853a-445f-41ff-9560-d925d1774b2f",
   "metadata": {},
   "outputs": [
    {
     "data": {
      "text/markdown": [
       "Certainly! Let's break down the provided code:\n",
       "\n",
       "```python\n",
       "def messages_for(code):\n",
       "    return [\n",
       "        {\"role\": \"system\", \"content\": system_prompt},\n",
       "        {\"role\": \"user\", \"content\": user_prompt_for(code)}\n",
       "    ]\n",
       "```\n",
       "\n",
       "### Key Components and Explanation:\n",
       "\n",
       "1. **Function Definition**:\n",
       "   - `def messages_for(code):` defines a function named `messages_for` that takes a single parameter, `code`. \n",
       "\n",
       "2. **Return Statement**:\n",
       "   - The function uses a `return` statement that creates and returns a list containing two dictionaries.\n",
       "\n",
       "3. **List of Dictionaries**:\n",
       "   - The returned list contains two dictionaries, each representing a message with specific roles:\n",
       "     - The first dictionary has the role of `\"system\"` and contains a content variable `system_prompt`.\n",
       "     - The second dictionary has the role of `\"user\"` and calls a function `user_prompt_for(code)` to obtain its content.\n",
       "\n",
       "4. **Dictionary Structure**:\n",
       "   - **System Message**: It is generally used to provide instructions or context to the user (or a system/research process).\n",
       "     ```python\n",
       "     {\"role\": \"system\", \"content\": system_prompt}\n",
       "     ```\n",
       "   - **User Message**: The actual user prompt, which adapts based on the `code` parameter. The function `user_prompt_for(code)` presumably takes the `code` and generates a corresponding prompt.\n",
       "     ```python\n",
       "     {\"role\": \"user\", \"content\": user_prompt_for(code)}\n",
       "     ```\n",
       "\n",
       "### Logic Being Implemented:\n",
       "- This function is likely part of a system that involves chatting or interaction (such as a chatbot), where you need to format and structure the input messages for some processing.\n",
       "- It organizes messages into a list where the first message could outline the system's context, while the second message would be a user-specific message derived from an input parameter.\n",
       "\n",
       "### Potential Issues:\n",
       "- The code references `system_prompt` but does not show how or where it is defined. If `system_prompt` is not properly defined in the scope of this function or globally, it will result in a `NameError`.\n",
       "- Additionally, there’s no error handling or validation for the `code` parameter. Depending on its expected values, edge cases might exist that could lead to unexpected behavior in producing the user prompt.\n",
       "\n",
       "### Suggestions/Alternatives:\n",
       "1. **Define `system_prompt`**: Ensure that `system_prompt` is declared and initialized either within the function or passed as a parameter to avoid runtime errors.\n",
       "   ```python\n",
       "   def messages_for(code, system_prompt):\n",
       "       ...\n",
       "   ```\n",
       "\n",
       "2. **Error Handling**: Consider adding checks to validate the `code` input and handle potential cases where `user_prompt_for(code)` might fail (e.g., returning `None` or raising an exception).\n",
       "   ```python\n",
       "   if not is_valid_code(code):\n",
       "       raise ValueError(\"Invalid code provided.\")\n",
       "   ```\n",
       "\n",
       "3. **Documentation**: Adding a docstring to the function can improve readability and maintainability by providing context on its purpose expected input, and output.\n",
       "\n",
       "Here’s a refined version of the function with these suggestions:\n",
       "\n",
       "```python\n",
       "def messages_for(code, system_prompt):\n",
       "    \"\"\"Generates a list of messages for chat interaction.\")\n",
       "\n",
       "    Args:\n",
       "        code: Identifier for user-specific prompts.\n",
       "        system_prompt: The context prompt for the system.\n",
       "\n",
       "    Returns:\n",
       "        A list of formatted messages as dictionaries.\n",
       "    \"\"\"\n",
       "    if not is_valid_code(code):\n",
       "        raise ValueError(\"Invalid code provided.\")\n",
       "    \n",
       "    return [\n",
       "        {\"role\": \"system\", \"content\": system_prompt},\n",
       "        {\"role\": \"user\", \"content\": user_prompt_for(code)}\n",
       "    ]\n",
       "```\n",
       "\n",
       "This approach not only enhances clarity and safety but also adheres to best practices in Python programming."
      ],
      "text/plain": [
       "<IPython.core.display.Markdown object>"
      ]
     },
     "metadata": {},
     "output_type": "display_data"
    }
   ],
   "source": [
    "display_summary('def messages_for(code):\\\n",
    "    return [\\\n",
    "        {\"role\": \"system\", \"content\": system_prompt},\\\n",
    "        {\"role\": \"user\", \"content\": user_prompt_for(code)}\\\n",
    "    ]')"
   ]
  },
  {
   "cell_type": "code",
   "execution_count": null,
   "id": "f3b3dfae-0f1e-49aa-9f31-f646f2114060",
   "metadata": {},
   "outputs": [],
   "source": []
  }
 ],
 "metadata": {
  "kernelspec": {
   "display_name": "Python 3 (ipykernel)",
   "language": "python",
   "name": "python3"
  },
  "language_info": {
   "codemirror_mode": {
    "name": "ipython",
    "version": 3
   },
   "file_extension": ".py",
   "mimetype": "text/x-python",
   "name": "python",
   "nbconvert_exporter": "python",
   "pygments_lexer": "ipython3",
   "version": "3.11.11"
  }
 },
 "nbformat": 4,
 "nbformat_minor": 5
}
