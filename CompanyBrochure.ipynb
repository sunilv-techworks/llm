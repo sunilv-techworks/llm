{
 "cells": [
  {
   "cell_type": "markdown",
   "id": "de4e4c03-4786-4556-b3bd-d9d25927cc5f",
   "metadata": {},
   "source": [
    "## This notebook uses the OPENAI API to create a company brochure. It uses , BeautiulSoup to scrape the data from the website and pass it to the OpenAI API as input to summarize it in a company brochure. The resulting output is displayed nicely using MarkDown"
   ]
  },
  {
   "cell_type": "markdown",
   "id": "9e1a913b-9401-40c2-9b12-cff3008a69ec",
   "metadata": {},
   "source": [
    "## Import the libraries"
   ]
  },
  {
   "cell_type": "code",
   "execution_count": 28,
   "id": "d5b08506-dc8b-4443-9201-5f1848161363",
   "metadata": {},
   "outputs": [],
   "source": [
    "import os\n",
    "import requests\n",
    "import json\n",
    "from typing import List\n",
    "from dotenv import load_dotenv\n",
    "from bs4 import BeautifulSoup\n",
    "from IPython.display import Markdown, display, update_display\n",
    "from openai import OpenAI"
   ]
  },
  {
   "cell_type": "markdown",
   "id": "986ed092-0ad4-4815-9461-48f807684a75",
   "metadata": {},
   "source": [
    "# Connecting to OpenAI\n",
    "\n",
    "Load in the environment variables in your `.env` file and connect to OpenAI."
   ]
  },
  {
   "cell_type": "code",
   "execution_count": 29,
   "id": "fc5d8880-f2ee-4c06-af16-ecbc0262af61",
   "metadata": {},
   "outputs": [],
   "source": [
    "# Load environment variables in a file called .env\n",
    "\n",
    "load_dotenv(override=True)\n",
    "api_key = os.getenv('OPENAI_API_KEY')\n",
    "    \n",
    "MODEL = 'gpt-4o-mini'\n",
    "URL = 'https://fusion5.com'\n",
    "openai = OpenAI()"
   ]
  },
  {
   "cell_type": "markdown",
   "id": "eea882b6-473a-4cbc-bdac-aad28e04f7d2",
   "metadata": {},
   "source": [
    "## Scrape the website and capture the results in the class\n",
    "##### Beautiful Soup is a library that makes it easy to scrape information from web pages. It sits atop an HTML or XML parser, providing Pythonic idioms for iterating, searching, and modifying the parse tree"
   ]
  },
  {
   "cell_type": "code",
   "execution_count": 30,
   "id": "106dd65e-90af-4ca8-86b6-23a41840645b",
   "metadata": {},
   "outputs": [],
   "source": [
    "headers = {\n",
    " \"User-Agent\": \"Mozilla/5.0 (Windows NT 10.0; Win64; x64) AppleWebKit/537.36 (KHTML, like Gecko) Chrome/117.0.0.0 Safari/537.36\"\n",
    "}\n",
    "\n",
    "class Website:\n",
    "    \"\"\"\n",
    "    A utility class to represent a Website that we have scraped, now with links\n",
    "    \"\"\"\n",
    "\n",
    "    def __init__(self, url):\n",
    "        self.url = url\n",
    "        response = requests.get(url, headers=headers)\n",
    "        self.body = response.content\n",
    "        soup = BeautifulSoup(self.body, 'html.parser')\n",
    "        self.title = soup.title.string if soup.title else \"No title found\"\n",
    "        if soup.body:\n",
    "            for irrelevant in soup.body([\"script\", \"style\", \"img\", \"input\"]):\n",
    "                irrelevant.decompose()\n",
    "            self.text = soup.body.get_text(separator=\"\\n\", strip=True)\n",
    "        else:\n",
    "            self.text = \"\"\n",
    "        links = [link.get('href') for link in soup.find_all('a')]\n",
    "        self.links = [link for link in links if link]\n",
    "\n",
    "    def get_contents(self):\n",
    "        return f\"Webpage Title:\\n{self.title}\\nWebpage Contents:\\n{self.text}\\n\\n\""
   ]
  },
  {
   "cell_type": "markdown",
   "id": "1771af9c-717a-4fca-bbbe-8a95893312c3",
   "metadata": {},
   "source": [
    "## ChatGPT is used decide which links are relevant and replace relative links such as \"/about\" with \"https://company.com/about\". Use a call to gpt-4o-mini to read the links on a webpage, and respond in structured JSON.  "
   ]
  },
  {
   "cell_type": "code",
   "execution_count": 31,
   "id": "6957b079-0d96-45f7-a26a-3487510e9b35",
   "metadata": {},
   "outputs": [],
   "source": [
    "link_system_prompt = \"You are provided with a list of links found on a webpage. \\\n",
    "You are able to decide which of the links would be most relevant to include in a brochure about the company, \\\n",
    "such as links to an About page, or a Company page, or Careers/Jobs pages.\\n\"\n",
    "link_system_prompt += \"You should respond in JSON as in this example:\"\n",
    "link_system_prompt += \"\"\"\n",
    "{\n",
    "    \"links\": [\n",
    "        {\"type\": \"about page\", \"url\": \"https://full.url/goes/here/about\"},\n",
    "        {\"type\": \"careers page\": \"url\": \"https://another.full.url/careers\"}\n",
    "    ]\n",
    "}\n",
    "\"\"\""
   ]
  },
  {
   "cell_type": "code",
   "execution_count": 32,
   "id": "8e1f601b-2eaf-499d-b6b8-c99050c9d6b3",
   "metadata": {},
   "outputs": [],
   "source": [
    "def get_links_user_prompt(website):\n",
    "    user_prompt = f\"Here is the list of links on the website of {website.url} - \"\n",
    "    user_prompt += \"please decide which of these are relevant web links for a brochure about the company, respond with the full https URL in JSON format. \\\n",
    "Do not include Terms of Service, Privacy, email links.\\n\"\n",
    "    user_prompt += \"Links (some might be relative links):\\n\"\n",
    "    user_prompt += \"\\n\".join(website.links)\n",
    "    return user_prompt"
   ]
  },
  {
   "cell_type": "code",
   "execution_count": 33,
   "id": "a29aca19-ca13-471c-a4b4-5abbfa813f69",
   "metadata": {},
   "outputs": [],
   "source": [
    "def get_links(url):\n",
    "    website = Website(url)\n",
    "    response = openai.chat.completions.create(\n",
    "        model=MODEL,\n",
    "        messages=[\n",
    "            {\"role\": \"system\", \"content\": link_system_prompt},\n",
    "            {\"role\": \"user\", \"content\": get_links_user_prompt(website)}\n",
    "      ],\n",
    "        response_format={\"type\": \"json_object\"}\n",
    "    )\n",
    "    result = response.choices[0].message.content\n",
    "    return json.loads(result)"
   ]
  },
  {
   "cell_type": "markdown",
   "id": "0d74128e-dfb6-47ec-9549-288b621c838c",
   "metadata": {},
   "source": [
    "## Put all the details together and pass it onto another prompt to prepare the brochure."
   ]
  },
  {
   "cell_type": "code",
   "execution_count": 34,
   "id": "85a5b6e2-e7ef-44a9-bc7f-59ede71037b5",
   "metadata": {},
   "outputs": [],
   "source": [
    "def get_all_details(url):\n",
    "    result = \"Landing page:\\n\"\n",
    "    result += Website(url).get_contents()\n",
    "    links = get_links(url)\n",
    "    print(\"Found links:\", links)\n",
    "    for link in links[\"links\"]:\n",
    "        result += f\"\\n\\n{link['type']}\\n\"\n",
    "        result += Website(link[\"url\"]).get_contents()\n",
    "    return result"
   ]
  },
  {
   "cell_type": "code",
   "execution_count": 35,
   "id": "9b863a55-f86c-4e3f-8a79-94e24c1a8cf2",
   "metadata": {},
   "outputs": [],
   "source": [
    "system_prompt = \"You are an assistant that analyzes the contents of several relevant pages from a company website \\\n",
    "and creates a short brochure about the company for prospective customers, investors and recruits. Respond in markdown.\\\n",
    "Include details of company culture, customers and careers/jobs if you have the information.\""
   ]
  },
  {
   "cell_type": "code",
   "execution_count": 36,
   "id": "6ab83d92-d36b-4ce0-8bcc-5bb4c2f8ff23",
   "metadata": {},
   "outputs": [],
   "source": [
    "def get_brochure_user_prompt(company_name, url):\n",
    "    user_prompt = f\"You are looking at a company called: {company_name}\\n\"\n",
    "    user_prompt += f\"Here are the contents of its landing page and other relevant pages; use this information to build a short brochure of the company in markdown.\\n\"\n",
    "    user_prompt += get_all_details(url)\n",
    "    user_prompt = user_prompt[:5_000] # Truncate if more than 5,000 characters\n",
    "    return user_prompt"
   ]
  },
  {
   "cell_type": "code",
   "execution_count": 40,
   "id": "e44de579-4a1a-4e6a-a510-20ea3e4b8d46",
   "metadata": {},
   "outputs": [],
   "source": [
    "def create_brochure(company_name, url):\n",
    "    response = openai.chat.completions.create(\n",
    "        model=MODEL,\n",
    "        messages=[\n",
    "            {\"role\": \"system\", \"content\": system_prompt},\n",
    "            {\"role\": \"user\", \"content\": get_brochure_user_prompt(company_name, url)}\n",
    "          ],\n",
    "    )\n",
    "    result = response.choices[0].message.content\n",
    "    display(Markdown(result))"
   ]
  },
  {
   "cell_type": "code",
   "execution_count": 41,
   "id": "e093444a-9407-42ae-924a-145730591a39",
   "metadata": {},
   "outputs": [
    {
     "name": "stdout",
     "output_type": "stream",
     "text": [
      "Found links: {'links': [{'type': 'about page', 'url': 'https://fusion5.com/au/about-us/'}, {'type': 'careers page', 'url': 'https://fusion5.com/au/careers/'}, {'type': 'contact page', 'url': 'https://fusion5.com/au/contact-us/'}, {'type': 'company page', 'url': 'https://www.linkedin.com/company/fusion5/'}, {'type': 'people page', 'url': 'https://fusion5.com/au/our-people/'}]}\n"
     ]
    },
    {
     "data": {
      "text/markdown": [
       "# Fusion5 Company Brochure\n",
       "\n",
       "Welcome to Fusion5, your dedicated tech partner for transforming your business landscape. We're committed to streamlining operations and enhancing performance through innovative applications, services, and robust support.\n",
       "\n",
       "## About Us\n",
       "\n",
       "At Fusion5, we are more than just a software provider; we are your trusted systems integration partner. Our extensive portfolio includes top-tier enterprise solutions in **Enterprise Resource Planning (ERP)**, **Customer Relationship Management (CRM)**, **People Management**, **Cloud Services**, **Data and AI**, and **Cybersecurity**. We work closely with industry leaders like Microsoft, Oracle, and AWS to deliver customized services that meet the unique demands of your business.\n",
       "\n",
       "### Our Vision\n",
       "We aim to help businesses evolve by transforming challenges into opportunities. With cutting-edge technology and a customer-centric approach, we empower organizations to optimize operations and achieve their goals.\n",
       "\n",
       "## Our Solutions\n",
       "\n",
       "- **Enterprise Resource Planning (ERP):** Optimize performance with world-class ERP solutions from NetSuite, Microsoft, and Oracle.\n",
       "- **Customer Relationship Management (CRM):** Automate multi-channel digital interactions and enhance customer value.\n",
       "- **People Management:** Foster a people-centric culture with tailored solutions for HR, payroll, and performance management.\n",
       "- **Planning, Data & Analytics:** Utilize data-driven insights to streamline reporting and analytics, ensuring alignment with business goals.\n",
       "- **Managed Services:** Focus on your core business while we manage your IT needs, ensuring industrial-level security.\n",
       "- **Cloud Services:** Benefit from flexible IT solutions, including on-premise, hybrid, or cloud setups.\n",
       "- **Consultancy & Advisory:** Crafting tailored roadmaps for technology investments to drive tangible business success.\n",
       "- **Cybersecurity:** Implement comprehensive strategies to safeguard your business against evolving security threats.\n",
       "\n",
       "## Culture and Environment\n",
       "\n",
       "At Fusion5, we prioritize a collaborative and inclusive culture. We believe that diverse perspectives lead to innovative solutions and foster a positive work environment. Our team is dedicated to continuous learning and development, supporting each other to stay ahead in a rapidly changing technological landscape.\n",
       "\n",
       "## Careers at Fusion5\n",
       "\n",
       "We are always looking for passionate, talented individuals to join our team. Whether you're a tech enthusiast or a seasoned professional, Fusion5 offers a vibrant work atmosphere with opportunities for growth and learning. Our career paths are designed to help you reach your potential while contributing to impactful projects that matter.\n",
       "\n",
       "### Join Us\n",
       "Explore our open positions and find your place at Fusion5 where we are #makingpotentialreality.\n",
       "\n",
       "## Our Customers\n",
       "\n",
       "Fusion5 serves a wide array of industries including:\n",
       "- Agribusiness\n",
       "- Financial Services\n",
       "- Manufacturing\n",
       "- Professional Services\n",
       "- Wholesale Distribution\n",
       "\n",
       "We partner with various organizations big and small to tailor technological solutions that drive efficiency and success.\n",
       "\n",
       "---\n",
       "\n",
       "**Ready to transform your business?** Reach out to us today and let’s chat about how we can work together.  \n",
       "**Contact:** [Fusion5 Contact Page](#)  \n",
       "**Follow Us:** [Fusion5 on Social Media](#)\n",
       "\n",
       "Thank you for considering Fusion5—your partner in business transformation!"
      ],
      "text/plain": [
       "<IPython.core.display.Markdown object>"
      ]
     },
     "metadata": {},
     "output_type": "display_data"
    }
   ],
   "source": [
    "create_brochure(\"F5\", URL)"
   ]
  },
  {
   "cell_type": "markdown",
   "id": "cd593d64-e521-453b-b020-536018af96d6",
   "metadata": {},
   "source": [
    "## Same data but stream the output data"
   ]
  },
  {
   "cell_type": "code",
   "execution_count": 42,
   "id": "51db0e49-f261-4137-aabe-92dd601f7725",
   "metadata": {},
   "outputs": [],
   "source": [
    "def stream_brochure(company_name, url):\n",
    "    stream = openai.chat.completions.create(\n",
    "        model=MODEL,\n",
    "        messages=[\n",
    "            {\"role\": \"system\", \"content\": system_prompt},\n",
    "            {\"role\": \"user\", \"content\": get_brochure_user_prompt(company_name, url)}\n",
    "          ],\n",
    "        stream=True\n",
    "    )\n",
    "    \n",
    "    response = \"\"\n",
    "    display_handle = display(Markdown(\"\"), display_id=True)\n",
    "    for chunk in stream:\n",
    "        response += chunk.choices[0].delta.content or ''\n",
    "        response = response.replace(\"```\",\"\").replace(\"markdown\", \"\")\n",
    "        update_display(Markdown(response), display_id=display_handle.display_id)"
   ]
  },
  {
   "cell_type": "code",
   "execution_count": 43,
   "id": "56bf0ae3-ee9d-4a72-9cd6-edcac67ceb6d",
   "metadata": {},
   "outputs": [
    {
     "name": "stdout",
     "output_type": "stream",
     "text": [
      "Found links: {'links': [{'type': 'about page', 'url': 'https://fusion5.com/au/about-us/'}, {'type': 'careers page', 'url': 'https://fusion5.com/au/careers/'}, {'type': 'contact page', 'url': 'https://fusion5.com/au/contact-us/'}, {'type': 'company page', 'url': 'https://fusion5.com/au/'}]}\n"
     ]
    },
    {
     "data": {
      "text/markdown": [
       "\n",
       "# Fusion5 Brochure\n",
       "\n",
       "## Transform Your Business with Fusion5\n",
       "\n",
       "At Fusion5, we’re more than just a software provider; we’re your dedicated systems integration partner. Our mission is to help businesses streamline operations, optimize performance, and unlock their full potential through cutting-edge technology solutions.\n",
       "\n",
       "---\n",
       "\n",
       "## **Our Core Offerings**\n",
       "\n",
       "### **Enterprise Resource Planning (ERP)**\n",
       "Maximize operational efficiency with world-class ERP systems from industry giants such as **NetSuite**, **Microsoft**, and **Oracle**. Our expert team ensures that your unique business requirements are met with precision.\n",
       "\n",
       "### **Customer Relationship Management (CRM)**\n",
       "Enhance customer interactions and drive value with our top-tier CRM solutions, designed for automated multi-channel digital engagement.\n",
       "\n",
       "### **People Management**\n",
       "Build a people-centric culture with our comprehensive HR solutions like **Jemini**, **EmpowerHR**, and **Jade Star**. We also offer enterprise-level outsourced payroll services for hassle-free management.\n",
       "\n",
       "### **Planning, Data & Analytics**\n",
       "Transform your relationship with data! Our Planning, Data, and Analytics solutions help your business match up accurate data and streamline reporting processes.\n",
       "\n",
       "### **Managed Services**\n",
       "Focus on your core competencies while we manage your IT resources. Our Managed Services protect your data and optimize expenditure without increasing headcount.\n",
       "\n",
       "### **Cloud Solutions**\n",
       "Boost your IT service performance with tailored on-premise, hybrid, or cloud solutions designed for enhanced user experiences.\n",
       "\n",
       "### **Consultancy & Advisory**\n",
       "Take advantage of our decades of cross-industry experience. We craft tailored roadmaps that align your technology investments with your strategic vision, turning ambition into reality.\n",
       "\n",
       "### **Cybersecurity**\n",
       "Ensure your business remains secure with our comprehensive cybersecurity services. We provide a strategic, monitored approach to safeguard your business from evolving threats.\n",
       "\n",
       "---\n",
       "\n",
       "## **Our Customers**\n",
       "Fusion5 serves a diverse range of industries including:\n",
       "- Agribusiness\n",
       "- Financial Services\n",
       "- Manufacturing\n",
       "- Professional Services\n",
       "- Wholesale Distribution\n",
       "\n",
       "We partner with various strategic allies such as **Microsoft**, **Oracle**, and **Amazon Web Services** to guarantee top-notch service delivery.\n",
       "\n",
       "---\n",
       "\n",
       "## **Company Culture**\n",
       "At Fusion5, we foster a collaborative and innovative environment. We believe in empowering our team members to contribute to the company’s success while continuously evolving professionally. Our culture promotes a people-centric approach, ensuring that both our clients and employees thrive.\n",
       "\n",
       "---\n",
       "\n",
       "## **Join Us! Careers at Fusion5**\n",
       "We are always on the lookout for talented individuals who are passionate about technology and customer success. If you’re ready to make a difference and advance your career in a dynamic environment, check out our **[Careers](#)** page to explore current job openings.\n",
       "\n",
       "---\n",
       "\n",
       "## **Contact Us**\n",
       "If you’re ready to transform your business with Fusion5's comprehensive solutions, don’t hesitate! **[Contact Us](#)** today for a consultation or to find out more about our offerings. \n",
       "\n",
       "Together, let's make potential reality.\n",
       "\n",
       "---\n",
       "\n",
       "**Fusion5 - AU | Fusion5 - NZ**\n",
       "\n"
      ],
      "text/plain": [
       "<IPython.core.display.Markdown object>"
      ]
     },
     "metadata": {},
     "output_type": "display_data"
    }
   ],
   "source": [
    "stream_brochure(\"F5\", URL)"
   ]
  }
 ],
 "metadata": {
  "kernelspec": {
   "display_name": "Python 3 (ipykernel)",
   "language": "python",
   "name": "python3"
  },
  "language_info": {
   "codemirror_mode": {
    "name": "ipython",
    "version": 3
   },
   "file_extension": ".py",
   "mimetype": "text/x-python",
   "name": "python",
   "nbconvert_exporter": "python",
   "pygments_lexer": "ipython3",
   "version": "3.11.11"
  }
 },
 "nbformat": 4,
 "nbformat_minor": 5
}
