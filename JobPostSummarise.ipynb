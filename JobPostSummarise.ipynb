{
 "cells": [
  {
   "cell_type": "markdown",
   "id": "c691b0d6-a825-4bcc-aa3e-95b5be4d3dd2",
   "metadata": {},
   "source": [
    "## This notebook uses the OPENAI API to summarize a webpage / website. It uses , BeautiulSoup to scrape the data from the website and pass it to the OpenAI API as input to summarize it. The resulting output is displayed nicely using MarkDown"
   ]
  },
  {
   "cell_type": "markdown",
   "id": "1e5a58ee-ff35-422d-bcde-621d10e0a4bf",
   "metadata": {},
   "source": [
    "## Import the libraries"
   ]
  },
  {
   "cell_type": "code",
   "execution_count": 1,
   "id": "4e2a9393-7767-488e-a8bf-27c12dca35bd",
   "metadata": {},
   "outputs": [],
   "source": [
    "# imports\n",
    "\n",
    "import os\n",
    "import requests\n",
    "from dotenv import load_dotenv\n",
    "from bs4 import BeautifulSoup\n",
    "from IPython.display import Markdown, display\n",
    "from openai import OpenAI\n",
    "\n",
    "# If you get an error running this cell, then please head over to the troubleshooting notebook!"
   ]
  },
  {
   "cell_type": "markdown",
   "id": "6900b2a8-6384-4316-8aaa-5e519fca4254",
   "metadata": {},
   "source": [
    "# Connecting to OpenAI\n",
    "\n",
    "Load in the environment variables in your `.env` file and connect to OpenAI."
   ]
  },
  {
   "cell_type": "code",
   "execution_count": 2,
   "id": "7b87cadb-d513-4303-baee-a37b6f938e4d",
   "metadata": {},
   "outputs": [],
   "source": [
    "# Load environment variables in a file called .env\n",
    "\n",
    "load_dotenv(override=True)\n",
    "api_key = os.getenv('OPENAI_API_KEY')\n"
   ]
  },
  {
   "cell_type": "code",
   "execution_count": 3,
   "id": "019974d9-f3ad-4a8a-b5f9-0a3719aea2d3",
   "metadata": {},
   "outputs": [],
   "source": [
    "openai = OpenAI()"
   ]
  },
  {
   "cell_type": "markdown",
   "id": "2aa190e5-cb31-456a-96cc-db109919cd78",
   "metadata": {},
   "source": [
    "## Scrape the website and capture the results in the class\n",
    "##### Beautiful Soup is a library that makes it easy to scrape information from web pages. It sits atop an HTML or XML parser, providing Pythonic idioms for iterating, searching, and modifying the parse tree"
   ]
  },
  {
   "cell_type": "code",
   "execution_count": 4,
   "id": "c5e793b2-6775-426a-a139-4848291d0463",
   "metadata": {},
   "outputs": [],
   "source": [
    "# Some websites need you to use proper headers when fetching them:\n",
    "headers = {\n",
    " \"User-Agent\": \"Mozilla/5.0 (Windows NT 10.0; Win64; x64) AppleWebKit/537.36 (KHTML, like Gecko) Chrome/117.0.0.0 Safari/537.36\"\n",
    "}\n",
    "\n",
    "class Website:\n",
    "\n",
    "    def __init__(self, url):\n",
    "        \"\"\"\n",
    "        Create this Website object from the given url using the BeautifulSoup library\n",
    "        \"\"\"\n",
    "        self.url = url\n",
    "        response = requests.get(url, headers=headers)\n",
    "        soup = BeautifulSoup(response.content, 'html.parser')\n",
    "        self.title = soup.title.string if soup.title else \"No title found\"\n",
    "        for irrelevant in soup.body([\"script\", \"style\", \"img\", \"input\"]):\n",
    "            irrelevant.decompose()\n",
    "        self.text = soup.body.get_text(separator=\"\\n\", strip=True)"
   ]
  },
  {
   "cell_type": "markdown",
   "id": "6a478a0c-2c53-48ff-869c-4d08199931e1",
   "metadata": {},
   "source": [
    "## Types of prompts\n",
    "\n",
    "\n",
    "Models expect to receive:\n",
    "\n",
    "**A system prompt** that tells them what task they are performing and what tone they should use\n",
    "\n",
    "**A user prompt** -- the conversation starter that they should reply to"
   ]
  },
  {
   "cell_type": "code",
   "execution_count": 5,
   "id": "abdb8417-c5dc-44bc-9bee-2e059d162699",
   "metadata": {},
   "outputs": [],
   "source": [
    "# Define our system prompt \n",
    "\n",
    "system_prompt = \"You are an assistant that analyzes the contents of a job posting \\\n",
    "and provides a short summary of the role highlighting salaray expectation and location if available. Ignore text that might be navigation related. \\\n",
    "Summarise the key skillsets required, Technical requirements for the role. \\\n",
    "Respond in markdown.\""
   ]
  },
  {
   "cell_type": "code",
   "execution_count": 6,
   "id": "f0275b1b-7cfe-4f9d-abfa-7650d378da0c",
   "metadata": {},
   "outputs": [],
   "source": [
    "# A function that writes a User Prompt that asks for summaries of websites:\n",
    "\n",
    "def user_prompt_for(website):\n",
    "    user_prompt = f\"You are looking at a job titled {website.title}\"\n",
    "    user_prompt += \"\\nThe details of this role are as follows; \\\n",
    "please provide a short summary of this role in markdown. \\\n",
    "If it includes salary or location details, then summarize these too.\\n\\n\"\n",
    "    user_prompt += website.text\n",
    "    return user_prompt"
   ]
  },
  {
   "cell_type": "markdown",
   "id": "ea211b5f-28e1-4a86-8e52-c0b7677cadcc",
   "metadata": {},
   "source": [
    "## Messages\n",
    "\n",
    "The API from OpenAI expects to receive messages in a particular structure.\n",
    "Many of the other APIs share this structure:\n",
    "\n",
    "```\n",
    "[\n",
    "    {\"role\": \"system\", \"content\": \"system message goes here\"},\n",
    "    {\"role\": \"user\", \"content\": \"user message goes here\"}\n",
    "]\n"
   ]
  },
  {
   "cell_type": "markdown",
   "id": "d06e8d78-ce4c-4b05-aa8e-17050c82bb47",
   "metadata": {},
   "source": [
    "## Build system and user prompts"
   ]
  },
  {
   "cell_type": "code",
   "execution_count": 7,
   "id": "0134dfa4-8299-48b5-b444-f2a8c3403c88",
   "metadata": {},
   "outputs": [],
   "source": [
    "# See how this function creates exactly the format above\n",
    "\n",
    "def messages_for(website):\n",
    "    return [\n",
    "        {\"role\": \"system\", \"content\": system_prompt},\n",
    "        {\"role\": \"user\", \"content\": user_prompt_for(website)}\n",
    "    ]"
   ]
  },
  {
   "cell_type": "markdown",
   "id": "16f49d46-bf55-4c3e-928f-68fc0bf715b0",
   "metadata": {},
   "source": [
    "## Summarize the data by calling the open AI API"
   ]
  },
  {
   "cell_type": "code",
   "execution_count": 8,
   "id": "905b9919-aba7-45b5-ae65-81b3d1d78e34",
   "metadata": {},
   "outputs": [],
   "source": [
    "# And now: call the OpenAI API. You will get very familiar with this!\n",
    "\n",
    "def summarize(url):\n",
    "    website = Website(url)\n",
    "    response = openai.chat.completions.create(\n",
    "        model = \"gpt-4o-mini\",\n",
    "        messages = messages_for(website)\n",
    "    )\n",
    "    return response.choices[0].message.content"
   ]
  },
  {
   "cell_type": "markdown",
   "id": "fc287997-1eee-4bf9-92a9-fdee533f762a",
   "metadata": {},
   "source": [
    "## Markdown library to summarize the data nicely"
   ]
  },
  {
   "cell_type": "code",
   "execution_count": 9,
   "id": "3d926d59-450e-4609-92ba-2d6f244f1342",
   "metadata": {},
   "outputs": [],
   "source": [
    "# A function to display this nicely in the Jupyter output, using markdown\n",
    "\n",
    "def display_summary(url):\n",
    "    summary = summarize(url)\n",
    "    display(Markdown(summary))"
   ]
  },
  {
   "cell_type": "code",
   "execution_count": 11,
   "id": "3018853a-445f-41ff-9560-d925d1774b2f",
   "metadata": {},
   "outputs": [
    {
     "data": {
      "text/markdown": [
       "# Data Consultant Job Summary\n",
       "\n",
       "**Location:** Sydney, NSW  \n",
       "**Salary:** Not explicitly mentioned, but competitive compensation and benefits are highlighted.\n",
       "\n",
       "## Role Overview\n",
       "Tranzformd is seeking experienced Senior Data Consultants to join their consultancy team. The role involves collaborating with ASX listed companies to lead and implement data strategies and solutions encompassing data migration, engineering, governance, and analysis.\n",
       "\n",
       "## Key Responsibilities\n",
       "- Lead data migration projects and ensure data integrity.\n",
       "- Design and implement data engineering processes and ETL workflows.\n",
       "- Develop data governance frameworks for compliance and data quality.\n",
       "- Conduct data analysis to provide insights for business decisions.\n",
       "- Offer consultancy services and stakeholder engagement.\n",
       "- Provide training to clients on data best practices and tools.\n",
       "\n",
       "## Key Skillsets Required\n",
       "- **Experience:** Minimum of 4 years in data consultancy, preferably in client-facing roles.\n",
       "- **Technical Skills:** \n",
       "  - Proficiency in data migration tools and ETL processes.\n",
       "  - Familiarity with cloud platforms (AWS, Azure, Google Cloud).\n",
       "  - Knowledge of data analysis and visualization tools (SQL, Python, R, Tableau, Power BI).\n",
       "- **Data Governance:** Strong understanding of data governance and compliance.\n",
       "- **Soft Skills:** \n",
       "  - Excellent problem-solving and analytical skills.\n",
       "  - Strong communication skills for presenting technical concepts.\n",
       "  - Ability to manage multiple projects and meet client needs effectively.\n",
       "\n",
       "## Additional Information\n",
       "Tranzformd emphasizes a collaborative work environment and supports ongoing professional development and work-life balance."
      ],
      "text/plain": [
       "<IPython.core.display.Markdown object>"
      ]
     },
     "metadata": {},
     "output_type": "display_data"
    }
   ],
   "source": [
    "display_summary(\"https://www.seek.com.au/job/82647026?ref=saved-homepage&pos=1&origin=jobTitle\")"
   ]
  }
 ],
 "metadata": {
  "kernelspec": {
   "display_name": "Python 3 (ipykernel)",
   "language": "python",
   "name": "python3"
  },
  "language_info": {
   "codemirror_mode": {
    "name": "ipython",
    "version": 3
   },
   "file_extension": ".py",
   "mimetype": "text/x-python",
   "name": "python",
   "nbconvert_exporter": "python",
   "pygments_lexer": "ipython3",
   "version": "3.11.11"
  }
 },
 "nbformat": 4,
 "nbformat_minor": 5
}
